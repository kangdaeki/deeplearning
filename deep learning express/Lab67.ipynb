{
 "cells": [
  {
   "cell_type": "code",
   "execution_count": 1,
   "id": "36f348d7-9026-4399-9953-5020230c8c81",
   "metadata": {
    "editable": true,
    "slideshow": {
     "slide_type": ""
    },
    "tags": []
   },
   "outputs": [],
   "source": [
    "from gtts import gTTS\n",
    "tts=gTTS('안녕하세요. 파이썬입니다.', lang='ko')\n",
    "tts.save('hello.mp3')"
   ]
  },
  {
   "cell_type": "code",
   "execution_count": 2,
   "id": "04617d94-372d-463a-98da-42c77f945eb4",
   "metadata": {
    "editable": true,
    "slideshow": {
     "slide_type": ""
    },
    "tags": []
   },
   "outputs": [
    {
     "name": "stdout",
     "output_type": "stream",
     "text": [
      "마이크로 말해보세요. \n",
      "말한 것이: hello world인가요?\n"
     ]
    }
   ],
   "source": [
    "import speech_recognition as sr\n",
    "r=sr.Recognizer()\n",
    "with sr.Microphone() as source:\n",
    "    print('마이크로 말해보세요. ')\n",
    "    audio=r.listen(source)\n",
    "    try:\n",
    "        t=r.recognize_google(audio)\n",
    "        print(f'말한 것이: {t}인가요?')\n",
    "    except:\n",
    "        print('음성 인식에 실패하였습니다.')"
   ]
  }
 ],
 "metadata": {
  "kernelspec": {
   "display_name": "Python 3 (ipykernel)",
   "language": "python",
   "name": "python3"
  },
  "language_info": {
   "codemirror_mode": {
    "name": "ipython",
    "version": 3
   },
   "file_extension": ".py",
   "mimetype": "text/x-python",
   "name": "python",
   "nbconvert_exporter": "python",
   "pygments_lexer": "ipython3",
   "version": "3.10.13"
  }
 },
 "nbformat": 4,
 "nbformat_minor": 5
}
