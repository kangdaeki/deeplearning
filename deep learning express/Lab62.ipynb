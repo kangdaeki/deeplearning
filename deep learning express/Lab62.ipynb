{
 "cells": [
  {
   "cell_type": "code",
   "execution_count": 1,
   "id": "4af87435-1efc-44a8-8ea0-d6fbd498657b",
   "metadata": {},
   "outputs": [
    {
     "name": "stdout",
     "output_type": "stream",
     "text": [
      "314.0\n",
      "314.0\n"
     ]
    }
   ],
   "source": [
    "print(3.14*10*10)\n",
    "print(3.14*10**2)"
   ]
  },
  {
   "cell_type": "code",
   "execution_count": 2,
   "id": "75e9fc93-fe43-4232-9de8-3f50547a739f",
   "metadata": {
    "editable": true,
    "slideshow": {
     "slide_type": ""
    },
    "tags": []
   },
   "outputs": [
    {
     "name": "stdout",
     "output_type": "stream",
     "text": [
      "<class 'int'>\n",
      "<class 'float'>\n",
      "<class 'str'>\n"
     ]
    }
   ],
   "source": [
    "print(type(10))\n",
    "print(type(3.14))\n",
    "print(type(\"python\"))"
   ]
  },
  {
   "cell_type": "code",
   "execution_count": 3,
   "id": "e2a8ed53-6c69-4804-8936-465423e995d6",
   "metadata": {},
   "outputs": [
    {
     "name": "stdout",
     "output_type": "stream",
     "text": [
      "1256.0\n"
     ]
    }
   ],
   "source": [
    "r=20\n",
    "PI=3.14\n",
    "area=PI*r**2\n",
    "print(area)"
   ]
  },
  {
   "cell_type": "code",
   "execution_count": 4,
   "id": "e145386d-edea-452f-ac90-0ecee92d8933",
   "metadata": {},
   "outputs": [
    {
     "name": "stdout",
     "output_type": "stream",
     "text": [
      "[10, 20, 30, 40, 50]\n",
      "30\n",
      "[10, 20, 90, 40, 50]\n",
      "5\n",
      "[10, 20, 90]\n",
      "[90, 40, 50]\n",
      "[10, 20, 90]\n",
      "[10, 20, 90, 40]\n",
      "[50, 40, 90, 20, 10]\n"
     ]
    }
   ],
   "source": [
    "lst=[10,20,30,40,50]\n",
    "print(lst)\n",
    "print(lst[2])\n",
    "lst[2]=90\n",
    "print(lst)\n",
    "print(len(lst))\n",
    "print(lst[0:3])\n",
    "print(lst[2:])\n",
    "print(lst[:3])\n",
    "print(lst[:-1])\n",
    "print(lst[::-1])"
   ]
  },
  {
   "cell_type": "code",
   "execution_count": 5,
   "id": "83ddce56-9f0f-4d23-bfbc-c0825e6b2b94",
   "metadata": {},
   "outputs": [
    {
     "name": "stdout",
     "output_type": "stream",
     "text": [
      "200\n",
      "{'HP': 200, 'make': 'BNW', 'color': 'white'}\n"
     ]
    }
   ],
   "source": [
    "car={'HP':200, 'make':\"BNW\"}\n",
    "print(car['HP'])\n",
    "car['color']=\"white\"\n",
    "print(car)"
   ]
  },
  {
   "cell_type": "code",
   "execution_count": 6,
   "id": "f0ff05f1-313e-4571-8b3b-976843022df7",
   "metadata": {},
   "outputs": [
    {
     "name": "stdout",
     "output_type": "stream",
     "text": [
      "영하입니다.\n"
     ]
    }
   ],
   "source": [
    "temp=-10\n",
    "if temp<0:\n",
    "    print(\"영하입니다.\")\n",
    "else:\n",
    "    print(\"영상입니다.\")"
   ]
  },
  {
   "cell_type": "code",
   "execution_count": 7,
   "id": "11bd779d-e0a8-4b62-a782-8f0cfca6d9ed",
   "metadata": {},
   "outputs": [
    {
     "name": "stdout",
     "output_type": "stream",
     "text": [
      "1 2 3 4 5 "
     ]
    }
   ],
   "source": [
    "for i in [1,2,3,4,5]:\n",
    "    print(i,end=\" \")"
   ]
  },
  {
   "cell_type": "code",
   "execution_count": 8,
   "id": "14d89163-20e5-4f84-9ab1-db6aabc8aab5",
   "metadata": {},
   "outputs": [
    {
     "name": "stdout",
     "output_type": "stream",
     "text": [
      "Hello!\n"
     ]
    }
   ],
   "source": [
    "def sayHello():\n",
    "    print(\"Hello!\")\n",
    "\n",
    "sayHello()"
   ]
  },
  {
   "cell_type": "code",
   "execution_count": 9,
   "id": "076d44b6-7259-4ee8-9c8e-4fb18bca6b2d",
   "metadata": {},
   "outputs": [
    {
     "name": "stdout",
     "output_type": "stream",
     "text": [
      "Hello! Kim\n"
     ]
    }
   ],
   "source": [
    "def sayHello(name):\n",
    "    print(\"Hello! \"+name)\n",
    "    \n",
    "sayHello(\"Kim\")"
   ]
  },
  {
   "cell_type": "code",
   "execution_count": 10,
   "id": "53c6eaa4-88c0-41ac-a633-75a8ed7aebc0",
   "metadata": {},
   "outputs": [
    {
     "name": "stdout",
     "output_type": "stream",
     "text": [
      "1 2 3\n",
      "1 2 3\n"
     ]
    }
   ],
   "source": [
    "def foo(a,b,c):\n",
    "    print(a,b,c)\n",
    "    \n",
    "args=[1,2,3]\n",
    "foo(*args)\n",
    "kwargs={'a':1,'b':2,'c':3}\n",
    "foo(**kwargs)"
   ]
  },
  {
   "cell_type": "code",
   "execution_count": 11,
   "id": "2b3b5371-8be9-453a-b74e-b4be3de88198",
   "metadata": {
    "editable": true,
    "slideshow": {
     "slide_type": ""
    },
    "tags": []
   },
   "outputs": [
    {
     "name": "stdout",
     "output_type": "stream",
     "text": [
      "안녕, 나의 이름은 John\n"
     ]
    }
   ],
   "source": [
    "class Person:\n",
    "    def __init__(self, name, age):\n",
    "        self.name=name\n",
    "        self.age=age\n",
    "\n",
    "    def sayHello(self):\n",
    "        print(\"안녕, 나의 이름은 \"+self.name)\n",
    "\n",
    "p1=Person(\"John\",36)\n",
    "p1.sayHello()"
   ]
  }
 ],
 "metadata": {
  "kernelspec": {
   "display_name": "Python 3 (ipykernel)",
   "language": "python",
   "name": "python3"
  },
  "language_info": {
   "codemirror_mode": {
    "name": "ipython",
    "version": 3
   },
   "file_extension": ".py",
   "mimetype": "text/x-python",
   "name": "python",
   "nbconvert_exporter": "python",
   "pygments_lexer": "ipython3",
   "version": "3.10.13"
  }
 },
 "nbformat": 4,
 "nbformat_minor": 5
}
