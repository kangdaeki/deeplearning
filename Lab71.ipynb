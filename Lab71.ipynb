{
 "cells": [
  {
   "cell_type": "code",
   "execution_count": 1,
   "id": "fbd6b9f4-b6d3-4544-8a5a-8296e3a291e5",
   "metadata": {},
   "outputs": [
    {
     "name": "stdout",
     "output_type": "stream",
     "text": [
      "[1 2 3]\n",
      "1\n",
      "[[1 2 3]\n",
      " [4 5 6]\n",
      " [7 8 9]]\n",
      "3\n"
     ]
    }
   ],
   "source": [
    "import numpy as np\n",
    "a=np.array([1,2,3])\n",
    "print(a)\n",
    "print(a[0])\n",
    "b=np.array([[1,2,3],[4,5,6],[7,8,9]])\n",
    "print(b)\n",
    "print(b[0][2])"
   ]
  },
  {
   "cell_type": "code",
   "execution_count": 2,
   "id": "55d974c9-7126-4a31-b7ae-ea9555ece50a",
   "metadata": {},
   "outputs": [
    {
     "name": "stdout",
     "output_type": "stream",
     "text": [
      "(3, 3)\n",
      "2\n",
      "int32\n",
      "4\n",
      "9\n"
     ]
    }
   ],
   "source": [
    "a=np.array([[0,1,2],[3,4,5],[6,7,8]])\n",
    "print(a.shape)\n",
    "print(a.ndim)\n",
    "print(a.dtype)\n",
    "print(a.itemsize)\n",
    "print(a.size)"
   ]
  },
  {
   "cell_type": "code",
   "execution_count": 3,
   "id": "2bf8b26c-309c-4f87-9b2e-36a48f8aacaf",
   "metadata": {},
   "outputs": [
    {
     "name": "stdout",
     "output_type": "stream",
     "text": [
      "[[0. 0. 0. 0.]\n",
      " [0. 0. 0. 0.]\n",
      " [0. 0. 0. 0.]]\n",
      "[[1 1 1 1]\n",
      " [1 1 1 1]\n",
      " [1 1 1 1]]\n",
      "[[1. 0. 0.]\n",
      " [0. 1. 0.]\n",
      " [0. 0. 1.]]\n"
     ]
    }
   ],
   "source": [
    "print(np.zeros((3,4)))\n",
    "print(np.ones((3,4),dtype=np.int32))\n",
    "print(np.eye(3))"
   ]
  },
  {
   "cell_type": "code",
   "execution_count": 4,
   "id": "f1e1f626-4013-4316-bd02-62a99598eba6",
   "metadata": {},
   "outputs": [
    {
     "name": "stdout",
     "output_type": "stream",
     "text": [
      "[1 1 1 1 1]\n"
     ]
    }
   ],
   "source": [
    "x=np.ones(5,dtype=np.int64)\n",
    "print(x)"
   ]
  },
  {
   "cell_type": "code",
   "execution_count": 5,
   "id": "69bc4ebc-2c09-495d-98b4-03a30b5c330c",
   "metadata": {},
   "outputs": [
    {
     "name": "stdout",
     "output_type": "stream",
     "text": [
      "[0 1 2 3 4]\n",
      "[1 2 3 4 5]\n",
      "[1 3 5 7 9]\n"
     ]
    }
   ],
   "source": [
    "print(np.arange(5))\n",
    "print(np.arange(1,6))\n",
    "print(np.arange(1,10,2))"
   ]
  },
  {
   "cell_type": "code",
   "execution_count": 6,
   "id": "7b116416-4ff8-43a7-b091-02371c532940",
   "metadata": {},
   "outputs": [
    {
     "name": "stdout",
     "output_type": "stream",
     "text": [
      "[ 0.          0.1010101   0.2020202   0.3030303   0.4040404   0.50505051\n",
      "  0.60606061  0.70707071  0.80808081  0.90909091  1.01010101  1.11111111\n",
      "  1.21212121  1.31313131  1.41414141  1.51515152  1.61616162  1.71717172\n",
      "  1.81818182  1.91919192  2.02020202  2.12121212  2.22222222  2.32323232\n",
      "  2.42424242  2.52525253  2.62626263  2.72727273  2.82828283  2.92929293\n",
      "  3.03030303  3.13131313  3.23232323  3.33333333  3.43434343  3.53535354\n",
      "  3.63636364  3.73737374  3.83838384  3.93939394  4.04040404  4.14141414\n",
      "  4.24242424  4.34343434  4.44444444  4.54545455  4.64646465  4.74747475\n",
      "  4.84848485  4.94949495  5.05050505  5.15151515  5.25252525  5.35353535\n",
      "  5.45454545  5.55555556  5.65656566  5.75757576  5.85858586  5.95959596\n",
      "  6.06060606  6.16161616  6.26262626  6.36363636  6.46464646  6.56565657\n",
      "  6.66666667  6.76767677  6.86868687  6.96969697  7.07070707  7.17171717\n",
      "  7.27272727  7.37373737  7.47474747  7.57575758  7.67676768  7.77777778\n",
      "  7.87878788  7.97979798  8.08080808  8.18181818  8.28282828  8.38383838\n",
      "  8.48484848  8.58585859  8.68686869  8.78787879  8.88888889  8.98989899\n",
      "  9.09090909  9.19191919  9.29292929  9.39393939  9.49494949  9.5959596\n",
      "  9.6969697   9.7979798   9.8989899  10.        ]\n"
     ]
    }
   ],
   "source": [
    "print(np.linspace(0,10,100))"
   ]
  },
  {
   "cell_type": "code",
   "execution_count": 7,
   "id": "d439171c-8f9f-45ba-ab7e-503c2d2a5374",
   "metadata": {},
   "outputs": [
    {
     "name": "stdout",
     "output_type": "stream",
     "text": [
      "[1 2 3 4 5 6 7 8]\n"
     ]
    }
   ],
   "source": [
    "arr=np.array([2,1,5,3,7,4,6,8])\n",
    "print(np.sort(arr))"
   ]
  },
  {
   "cell_type": "code",
   "execution_count": 8,
   "id": "0b8fc19e-d760-40de-a5e3-18f872256e29",
   "metadata": {},
   "outputs": [
    {
     "name": "stdout",
     "output_type": "stream",
     "text": [
      "[[1 2 5 6]\n",
      " [3 4 7 8]]\n",
      "[[1 2]\n",
      " [3 4]\n",
      " [5 6]\n",
      " [7 8]]\n"
     ]
    }
   ],
   "source": [
    "x=np.array([[1,2],[3,4]])\n",
    "y=np.array([[5,6],[7,8]])\n",
    "print(np.concatenate((x,y), axis=1))\n",
    "print(np.concatenate((x,y), axis=0))"
   ]
  },
  {
   "cell_type": "code",
   "execution_count": 9,
   "id": "1d3c62cc-5bc5-4254-b316-428e74151d6c",
   "metadata": {},
   "outputs": [
    {
     "name": "stdout",
     "output_type": "stream",
     "text": [
      "[[1 2]\n",
      " [3 4]\n",
      " [5 6]\n",
      " [7 8]]\n"
     ]
    }
   ],
   "source": [
    "print(np.vstack((x,y)))"
   ]
  },
  {
   "cell_type": "code",
   "execution_count": 10,
   "id": "7cbe4512-8fdb-4878-8e8b-84e6f78e7675",
   "metadata": {},
   "outputs": [
    {
     "name": "stdout",
     "output_type": "stream",
     "text": [
      "[[1 2 5 6]\n",
      " [3 4 7 8]]\n"
     ]
    }
   ],
   "source": [
    "print(np.hstack((x,y)))"
   ]
  },
  {
   "cell_type": "code",
   "execution_count": 11,
   "id": "e07c0deb-ccf7-4b86-a0f1-4fea2d9c4127",
   "metadata": {},
   "outputs": [
    {
     "name": "stdout",
     "output_type": "stream",
     "text": [
      "[ 0  1  2  3  4  5  6  7  8  9 10 11]\n",
      "(12,)\n"
     ]
    }
   ],
   "source": [
    "a=np.arange(12)\n",
    "print(a)\n",
    "print(a.shape)"
   ]
  },
  {
   "cell_type": "code",
   "execution_count": 12,
   "id": "ec24f94b-746e-45b5-9783-12ddaebc8459",
   "metadata": {},
   "outputs": [
    {
     "name": "stdout",
     "output_type": "stream",
     "text": [
      "[[ 0  1  2  3]\n",
      " [ 4  5  6  7]\n",
      " [ 8  9 10 11]]\n",
      "[ 0  1  2  3  4  5  6  7  8  9 10 11]\n"
     ]
    }
   ],
   "source": [
    "print(a.reshape(3,4))\n",
    "print(a)"
   ]
  },
  {
   "cell_type": "code",
   "execution_count": 13,
   "id": "bce49534-8ec0-48bc-ae0b-c0f434e8fe41",
   "metadata": {},
   "outputs": [
    {
     "name": "stdout",
     "output_type": "stream",
     "text": [
      "[[ 0  1]\n",
      " [ 2  3]\n",
      " [ 4  5]\n",
      " [ 6  7]\n",
      " [ 8  9]\n",
      " [10 11]]\n"
     ]
    }
   ],
   "source": [
    "print(a.reshape(6,-1))"
   ]
  },
  {
   "cell_type": "code",
   "execution_count": 14,
   "id": "e519a70b-505d-4053-b604-a8fe05bd9122",
   "metadata": {},
   "outputs": [
    {
     "name": "stdout",
     "output_type": "stream",
     "text": [
      "[[ 0  1  2  3  4  5  6  7  8  9]\n",
      " [10 11 12 13 14 15 16 17 18 19]\n",
      " [20 21 22 23 24 25 26 27 28 29]]\n",
      "[[ 0  1  2]\n",
      " [10 11 12]\n",
      " [20 21 22]]\n",
      "[[ 3  4  5  6  7  8  9]\n",
      " [13 14 15 16 17 18 19]\n",
      " [23 24 25 26 27 28 29]]\n"
     ]
    }
   ],
   "source": [
    "a=np.arange(30).reshape(-1,10)\n",
    "print(a)\n",
    "a1,a2=np.split(a,[3],axis=1)\n",
    "print(a1)\n",
    "print(a2)"
   ]
  },
  {
   "cell_type": "code",
   "execution_count": 15,
   "id": "aa1248d4-679e-41ee-9175-a9800d4d6388",
   "metadata": {},
   "outputs": [
    {
     "name": "stdout",
     "output_type": "stream",
     "text": [
      "[1 2 3 4 5 6]\n",
      "(6,)\n",
      "[[1 2 3 4 5 6]]\n",
      "(1, 6)\n",
      "[[1]\n",
      " [2]\n",
      " [3]\n",
      " [4]\n",
      " [5]\n",
      " [6]]\n",
      "(6, 1)\n"
     ]
    }
   ],
   "source": [
    "a=np.array([1,2,3,4,5,6])\n",
    "print(a)\n",
    "print(a.shape)\n",
    "a1=a[np.newaxis,:]\n",
    "print(a1)\n",
    "print(a1.shape)\n",
    "a2=a[:,np.newaxis]\n",
    "print(a2)\n",
    "print(a2.shape)"
   ]
  },
  {
   "cell_type": "code",
   "execution_count": 16,
   "id": "fe79ae7a-7e4a-446f-9186-1f866d93aaf5",
   "metadata": {},
   "outputs": [
    {
     "name": "stdout",
     "output_type": "stream",
     "text": [
      "[[1]\n",
      " [2]\n",
      " [3]\n",
      " [4]\n",
      " [5]\n",
      " [6]]\n",
      "(6, 1)\n"
     ]
    }
   ],
   "source": [
    "b=np.expand_dims(a,axis=1)\n",
    "print(b)\n",
    "print(b.shape)"
   ]
  },
  {
   "cell_type": "code",
   "execution_count": 17,
   "id": "51bfbb70-8279-4e4a-8eda-e7cbe6f9d2b5",
   "metadata": {},
   "outputs": [
    {
     "name": "stdout",
     "output_type": "stream",
     "text": [
      "[19 25]\n",
      "[18 19]\n",
      "[False False  True  True  True]\n",
      "[25 30 28]\n"
     ]
    }
   ],
   "source": [
    "ages=np.array([18,19,25,30,28])\n",
    "print(ages[1:3])\n",
    "print(ages[:2])\n",
    "y=ages>20\n",
    "print(y)\n",
    "print(ages[ages>20])"
   ]
  },
  {
   "cell_type": "code",
   "execution_count": 18,
   "id": "0927359e-223b-4c83-9478-88d36fc2f16f",
   "metadata": {},
   "outputs": [
    {
     "name": "stdout",
     "output_type": "stream",
     "text": [
      "3\n",
      "[[12  2  3]\n",
      " [ 4  5  6]\n",
      " [ 7  8  9]]\n"
     ]
    }
   ],
   "source": [
    "a=np.array([[1,2,3],[4,5,6],[7,8,9]])\n",
    "print(a[0,2])\n",
    "a[0,0]=12\n",
    "print(a)"
   ]
  },
  {
   "cell_type": "code",
   "execution_count": 19,
   "id": "8eabdc45-412c-4709-9c23-a54ad1556b90",
   "metadata": {},
   "outputs": [
    {
     "name": "stdout",
     "output_type": "stream",
     "text": [
      "[[2 3]\n",
      " [5 6]]\n",
      "[1 2 3]\n",
      "[5 6]\n"
     ]
    }
   ],
   "source": [
    "data=np.array([[1,2,3],[4,5,6],[7,8,9]])\n",
    "print(data[0:2,1:3])\n",
    "print(data[0])\n",
    "print(data[1,1:3])"
   ]
  },
  {
   "cell_type": "code",
   "execution_count": 20,
   "id": "69ea2ec3-a224-45b6-a24e-12b215c96c43",
   "metadata": {},
   "outputs": [
    {
     "name": "stdout",
     "output_type": "stream",
     "text": [
      "[1 2 3 4]\n",
      "[99  2  3  4]\n",
      "[[99  2  3  4]\n",
      " [ 5  6  7  8]\n",
      " [ 9 10 11 12]]\n",
      "[[99  2  3  4]\n",
      " [ 5  6  7  8]\n",
      " [ 9 10 11 12]]\n",
      "[[99  2  3  4]\n",
      " [ 5  6  7  8]\n",
      " [ 9 10 11 12]]\n",
      "[[100   2   3   4]\n",
      " [  5   6   7   8]\n",
      " [  9  10  11  12]]\n",
      "[[100   2   3   4]\n",
      " [  5   6   7   8]\n",
      " [  9  10  11  12]]\n",
      "[[99  2  3  4]\n",
      " [ 5  6  7  8]\n",
      " [ 9 10 11 12]]\n"
     ]
    }
   ],
   "source": [
    "a=np.array([[1,2,3,4],[5,6,7,8],[9,10,11,12]])\n",
    "b=a[0,:]\n",
    "print(b)\n",
    "b[0]=99\n",
    "print(b)\n",
    "print(a)\n",
    "b1=a\n",
    "print(b1)\n",
    "b2=a.copy()\n",
    "print(b2)\n",
    "a[0,0]=100\n",
    "print(a)\n",
    "print(b1)\n",
    "print(b2)"
   ]
  },
  {
   "cell_type": "code",
   "execution_count": 21,
   "id": "e66f06d3-498e-47e0-b3f3-b37670b6e6fd",
   "metadata": {},
   "outputs": [
    {
     "name": "stdout",
     "output_type": "stream",
     "text": [
      "[[2 3]\n",
      " [4 5]\n",
      " [6 7]]\n"
     ]
    }
   ],
   "source": [
    "a1=np.array([[1,2],[3,4],[5,6]])\n",
    "a2=np.array([[1,1],[1,1],[1,1]])\n",
    "r=a1+a2\n",
    "print(r)"
   ]
  },
  {
   "cell_type": "code",
   "execution_count": 22,
   "id": "e58ab0db-16ce-4da1-b73d-4a373bc3aef9",
   "metadata": {},
   "outputs": [
    {
     "name": "stdout",
     "output_type": "stream",
     "text": [
      "[0 1 4 9]\n"
     ]
    }
   ],
   "source": [
    "a=np.array([0,1,2,3])\n",
    "print(a**2)"
   ]
  },
  {
   "cell_type": "code",
   "execution_count": 23,
   "id": "5898bb9c-8d75-4de5-b0c7-215fea503108",
   "metadata": {},
   "outputs": [
    {
     "name": "stdout",
     "output_type": "stream",
     "text": [
      "[ True  True False  True]\n"
     ]
    }
   ],
   "source": [
    "a=np.array([0,9,21,3])\n",
    "print(a<10)"
   ]
  },
  {
   "cell_type": "code",
   "execution_count": 24,
   "id": "5484593f-4d91-4313-96fa-1b1936e86ee0",
   "metadata": {},
   "outputs": [
    {
     "name": "stdout",
     "output_type": "stream",
     "text": [
      "45\n",
      "9\n",
      "1\n"
     ]
    }
   ],
   "source": [
    "a=np.array([[1,2,3],[4,5,6],[7,8,9]])\n",
    "print(a.sum())\n",
    "print(a.max())\n",
    "print(a.min())"
   ]
  },
  {
   "cell_type": "code",
   "execution_count": 25,
   "id": "2ee8d685-5aae-479f-b1bc-be083b4064d0",
   "metadata": {},
   "outputs": [
    {
     "name": "stdout",
     "output_type": "stream",
     "text": [
      "[[99 93 60]\n",
      " [98 82 93]\n",
      " [93 65 81]\n",
      " [78 82 81]]\n",
      "[92.   80.5  78.75]\n",
      "[84.         91.         79.66666667 80.33333333]\n"
     ]
    }
   ],
   "source": [
    "scores=np.array([[99,93,60],[98,82,93],[93,65,81],[78,82,81]])\n",
    "print(scores)\n",
    "print(scores.mean(axis=0))\n",
    "print(scores.mean(axis=1))"
   ]
  },
  {
   "cell_type": "code",
   "execution_count": 26,
   "id": "2cfce079-ecae-411b-bd93-e90fe6efb1da",
   "metadata": {},
   "outputs": [
    {
     "name": "stdout",
     "output_type": "stream",
     "text": [
      "[1.6 3.2 4.8]\n"
     ]
    }
   ],
   "source": [
    "m=np.array([1,2,3])\n",
    "r=m*1.6\n",
    "print(r)"
   ]
  },
  {
   "cell_type": "code",
   "execution_count": 27,
   "id": "8d873b3a-0054-4028-9fdb-bff21a17e067",
   "metadata": {},
   "outputs": [
    {
     "name": "stdout",
     "output_type": "stream",
     "text": [
      "[[ 2  4]\n",
      " [ 6  8]\n",
      " [10 12]]\n"
     ]
    }
   ],
   "source": [
    "a1=np.array([[1,2],[3,4],[5,6]])\n",
    "a2=np.array([[2,2],[2,2],[2,2]])\n",
    "r=a1*a2\n",
    "print(r)"
   ]
  },
  {
   "cell_type": "code",
   "execution_count": 28,
   "id": "a1351271-9754-45a1-a599-9cdefca69450",
   "metadata": {},
   "outputs": [
    {
     "name": "stdout",
     "output_type": "stream",
     "text": [
      "[[12 12]\n",
      " [30 30]\n",
      " [48 48]]\n"
     ]
    }
   ],
   "source": [
    "a1=np.array([[1,2,3],[4,5,6],[7,8,9]])\n",
    "a2=np.array([[2,2],[2,2],[2,2]])\n",
    "r=a1@a2\n",
    "print(r)"
   ]
  },
  {
   "cell_type": "code",
   "execution_count": 29,
   "id": "2d76253b-953c-4417-8c7f-3f0892d026d1",
   "metadata": {},
   "outputs": [
    {
     "name": "stdout",
     "output_type": "stream",
     "text": [
      "[0.         8.41470985 9.09297427 1.41120008]\n"
     ]
    }
   ],
   "source": [
    "a=np.array([0,1,2,3])\n",
    "print(10*np.sin(a))"
   ]
  },
  {
   "cell_type": "code",
   "execution_count": 30,
   "id": "cf255df9-3ded-4c2e-85f5-669139bd317e",
   "metadata": {},
   "outputs": [
    {
     "name": "stdout",
     "output_type": "stream",
     "text": [
      "[0.65358959 0.11500694 0.95028286 0.4821914  0.87247454]\n",
      "[[0.21233268 0.04070962 0.39719446]\n",
      " [0.2331322  0.84174072 0.20708234]\n",
      " [0.74246953 0.39215413 0.18225652]\n",
      " [0.74353941 0.06958208 0.8853372 ]\n",
      " [0.9526444  0.93114343 0.41543095]]\n"
     ]
    }
   ],
   "source": [
    "np.random.seed(1000)\n",
    "print(np.random.rand(5))\n",
    "print(np.random.rand(5,3))"
   ]
  },
  {
   "cell_type": "code",
   "execution_count": 31,
   "id": "9d505227-045d-4836-8435-f8a013651784",
   "metadata": {},
   "outputs": [
    {
     "name": "stdout",
     "output_type": "stream",
     "text": [
      "[10.28981659 19.82027485 13.39637684 17.06687194 13.61877068]\n"
     ]
    }
   ],
   "source": [
    "a,b=10,20\n",
    "print((b-a)*np.random.rand(5)+a)"
   ]
  },
  {
   "cell_type": "code",
   "execution_count": 32,
   "id": "cdb72333-90d7-447f-bddb-4e89de9e2124",
   "metadata": {},
   "outputs": [
    {
     "name": "stdout",
     "output_type": "stream",
     "text": [
      "[3 6 3 5 1 5 5 4 2 4]\n"
     ]
    }
   ],
   "source": [
    "print(np.random.randint(1,7,size=10))"
   ]
  },
  {
   "cell_type": "code",
   "execution_count": 33,
   "id": "46a5f6a1-ce41-4ae6-b7ba-c385fab7a26e",
   "metadata": {},
   "outputs": [
    {
     "name": "stdout",
     "output_type": "stream",
     "text": [
      "[-0.08988248 -0.14974264  0.4055338  -0.75133127  0.93131848]\n",
      "[[-0.24745023 -0.27072883 -1.27939856 -1.07900875]\n",
      " [-0.08796666  2.05225999 -1.23931612  1.10970741]\n",
      " [-1.15768513  0.09870641 -1.4651006  -1.75193341]\n",
      " [ 1.96503337 -0.34876717 -0.44128298 -0.3947238 ]\n",
      " [-0.81437341  0.16256696 -1.57323867 -1.78792302]]\n"
     ]
    }
   ],
   "source": [
    "print(np.random.randn(5))\n",
    "print(np.random.randn(5,4))"
   ]
  },
  {
   "cell_type": "code",
   "execution_count": 34,
   "id": "22a7caa0-4743-4b6e-ac91-a26ea76781ab",
   "metadata": {},
   "outputs": [
    {
     "name": "stdout",
     "output_type": "stream",
     "text": [
      "[ 0.19093792  0.06282858 -0.18764819 -0.0321585  -0.06866277]\n"
     ]
    }
   ],
   "source": [
    "mu,sigma=0,0.1\n",
    "print(np.random.normal(mu,sigma,5))"
   ]
  },
  {
   "cell_type": "code",
   "execution_count": 35,
   "id": "9e58671c-5985-4ec9-896a-720e9fda8fd1",
   "metadata": {},
   "outputs": [
    {
     "name": "stdout",
     "output_type": "stream",
     "text": [
      "[11 11 12 13 14 15 16 17 12 13 11 14 18 19 20]\n",
      "[11 12 13 14 15 16 17 18 19 20]\n",
      "[11 12 13 14 15 16 17 18 19 20]\n",
      "[11 11 12 13 14 15 16 17 12 13 11 14 18 19 20]\n",
      "[ 0  2  3  4  5  6  7 12 13 14]\n",
      "[11 11 12 13 14 15 16 17 12 13 11 14 18 19 20]\n",
      "[11 12 13 14 15 16 17 18 19 20]\n",
      "[3 2 2 2 1 1 1 1 1 1]\n"
     ]
    }
   ],
   "source": [
    "a=np.array([11,11,12,13,14,15,16,17,12,13,11,14,18,19,20])\n",
    "print(a)\n",
    "u=np.unique(a)\n",
    "print(u)\n",
    "v,il=np.unique(a,return_index=True)\n",
    "print(v)\n",
    "print(a)\n",
    "print(il)\n",
    "v,cl=np.unique(a,return_counts=True)\n",
    "print(a)\n",
    "print(v)\n",
    "print(cl)"
   ]
  },
  {
   "cell_type": "code",
   "execution_count": 36,
   "id": "8769543d-1f76-4df9-a303-c3bae0e8520c",
   "metadata": {},
   "outputs": [
    {
     "name": "stdout",
     "output_type": "stream",
     "text": [
      "[[1 2]\n",
      " [3 4]\n",
      " [5 6]]\n",
      "[[1 3 5]\n",
      " [2 4 6]]\n",
      "[[1 3 5]\n",
      " [2 4 6]]\n"
     ]
    }
   ],
   "source": [
    "arr=np.array([[1,2],[3,4],[5,6]])\n",
    "print(arr)\n",
    "print(arr.T)\n",
    "print(arr.transpose())"
   ]
  },
  {
   "cell_type": "code",
   "execution_count": 37,
   "id": "b9e68bcb-8f64-463d-8722-f1e3464fa11e",
   "metadata": {},
   "outputs": [
    {
     "name": "stdout",
     "output_type": "stream",
     "text": [
      "[ 1  2  3  4  5  6  7  8  9 10 11 12]\n"
     ]
    }
   ],
   "source": [
    "x=np.array([[1,2,3,4],[5,6,7,8],[9,10,11,12]])\n",
    "print(x.flatten())"
   ]
  },
  {
   "cell_type": "code",
   "execution_count": 38,
   "id": "6e0c5065-f739-4bb3-8eef-77bad7039f5e",
   "metadata": {},
   "outputs": [
    {
     "name": "stdout",
     "output_type": "stream",
     "text": [
      "[['KR' 'Korea' 98480 'Seoul' 48422644]\n",
      " ['US' 'USA' 9629091 'Washington' 310232863]\n",
      " ['JP' 'Japan' 377835 'Tokyo' 127288000]\n",
      " ['CN' 'China' 9596960 'Beijing' 1330044000]\n",
      " ['RU' 'Russia' 17100000 'Moscow' 140702000]]\n",
      "[['Korea' 'Seoul']\n",
      " ['USA' 'Washington']\n",
      " ['Japan' 'Tokyo']\n",
      " ['China' 'Beijing']\n",
      " ['Russia' 'Moscow']]\n"
     ]
    }
   ],
   "source": [
    "import numpy as np\n",
    "import pandas as pd\n",
    "x=pd.read_csv('countries.csv',header=0).values\n",
    "print(x)\n",
    "x=pd.read_csv('countries.csv',usecols=['country','capital'],header=0).values\n",
    "print(x)"
   ]
  },
  {
   "cell_type": "code",
   "execution_count": 39,
   "id": "878b1562-900e-4ec7-ac12-19b9187e0192",
   "metadata": {},
   "outputs": [
    {
     "name": "stdout",
     "output_type": "stream",
     "text": [
      "     0    1    2    3\n",
      "0  100  101  102  103\n",
      "1  104  105  106  107\n",
      "2  108  109  110  111\n",
      "3  112  113  114  115\n"
     ]
    }
   ],
   "source": [
    "a=np.arange(100,116,1).reshape(4,4)\n",
    "df=pd.DataFrame(a)\n",
    "print(df)\n",
    "df.to_csv('pd.csv')"
   ]
  },
  {
   "cell_type": "code",
   "execution_count": null,
   "id": "fae25b74-817f-4b6d-956f-dd6de34d2f63",
   "metadata": {},
   "outputs": [],
   "source": []
  }
 ],
 "metadata": {
  "kernelspec": {
   "display_name": "Python 3 (ipykernel)",
   "language": "python",
   "name": "python3"
  },
  "language_info": {
   "codemirror_mode": {
    "name": "ipython",
    "version": 3
   },
   "file_extension": ".py",
   "mimetype": "text/x-python",
   "name": "python",
   "nbconvert_exporter": "python",
   "pygments_lexer": "ipython3",
   "version": "3.10.13"
  }
 },
 "nbformat": 4,
 "nbformat_minor": 5
}
